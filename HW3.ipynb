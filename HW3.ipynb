{
 "cells": [
  {
   "cell_type": "markdown",
   "id": "be327c24",
   "metadata": {},
   "source": [
    "# HW3\n",
    "\n",
    "## Importing libraries"
   ]
  },
  {
   "cell_type": "code",
   "execution_count": 31,
   "id": "6bd67e4e",
   "metadata": {
    "scrolled": true
   },
   "outputs": [],
   "source": [
    "import numpy as np\n",
    "import pandas as pd\n",
    "import matplotlib.pyplot as plt\n",
    "import sklearn as sk\n",
    "import pickle\n",
    "from sklearn.model_selection import train_test_split\n",
    "from sklearn.linear_model import LogisticRegression\n",
    "from sklearn.metrics import accuracy_score"
   ]
  },
  {
   "cell_type": "markdown",
   "id": "034372c9",
   "metadata": {},
   "source": [
    "## Importing data"
   ]
  },
  {
   "cell_type": "code",
   "execution_count": 32,
   "id": "c9130b71",
   "metadata": {},
   "outputs": [],
   "source": [
    "titanic_data = pd.read_csv('C:/Users/Pranav/Documents/MS Program/MSDS 530/Homework/HW4/ETL_Titanic_Data_CSV.csv')"
   ]
  },
  {
   "cell_type": "markdown",
   "id": "d692644b",
   "metadata": {},
   "source": [
    "## Value replacement"
   ]
  },
  {
   "cell_type": "code",
   "execution_count": 33,
   "id": "ad69ba47",
   "metadata": {},
   "outputs": [],
   "source": [
    "# Value conversion\n",
    "# Survived: Yes - 1, No - 0\n",
    "# Sex: male - 0; female - 1\n",
    "# Passenger Class: First - 0, Second - 1, Third - 2\n",
    "# Port of Embarkation: Southampton - 0, Cherbourg - 1, Queenstown - 2\n",
    "titanic_data.replace({'Survived': {'Yes': 1, 'No': 0} , 'Passenger Class': {'First': 0, 'Second': 1, 'Third': 2}, 'Sex':{'Male':0,'Female':1}, 'Port of Embarkation':{'Southampton':0,'Cherbourg':1,'Queenstown':2}}, inplace=True)"
   ]
  },
  {
   "cell_type": "markdown",
   "id": "ac60bc12",
   "metadata": {},
   "source": [
    "# Feature split"
   ]
  },
  {
   "cell_type": "code",
   "execution_count": 34,
   "id": "62d117e5",
   "metadata": {},
   "outputs": [],
   "source": [
    "# Splitting data features and target\n",
    "X = titanic_data.drop(columns = ['Name','Passenger Fare', 'Ticket Number','Survived'],axis=1)\n",
    "Y = titanic_data['Survived']"
   ]
  },
  {
   "cell_type": "markdown",
   "id": "bb7c28d2",
   "metadata": {},
   "source": [
    "## Data split"
   ]
  },
  {
   "cell_type": "code",
   "execution_count": 35,
   "id": "3ab1d544",
   "metadata": {},
   "outputs": [],
   "source": [
    "#Spliting data for training and testing\n",
    "X_train, X_test, Y_train, Y_test = train_test_split(X,Y, test_size=0.3, random_state=2)"
   ]
  },
  {
   "cell_type": "markdown",
   "id": "f14032a9",
   "metadata": {},
   "source": [
    "## Model Training"
   ]
  },
  {
   "cell_type": "code",
   "execution_count": 36,
   "id": "0597fed9",
   "metadata": {},
   "outputs": [
    {
     "name": "stdout",
     "output_type": "stream",
     "text": [
      "Accuracy for training data is: 77.8061224489796 \n",
      "\n"
     ]
    }
   ],
   "source": [
    "# Running model for logistic regression\n",
    "lr = LogisticRegression()\n",
    "lr.fit(X_train, Y_train)\n",
    "Y_Predict = lr.predict(X_test)\n",
    "acc = accuracy_score(Y_test, Y_Predict)\n",
    "accuracy = acc*100\n",
    "print(f'Accuracy for training data is: {accuracy} \\n')\n",
    "lr_model = pickle.dumps(lr)"
   ]
  },
  {
   "cell_type": "markdown",
   "id": "a289a580",
   "metadata": {},
   "source": [
    "## Tesing model"
   ]
  },
  {
   "cell_type": "code",
   "execution_count": 37,
   "id": "a26698f3",
   "metadata": {},
   "outputs": [
    {
     "name": "stdout",
     "output_type": "stream",
     "text": [
      "Dead\n"
     ]
    }
   ],
   "source": [
    "# Prediction\n",
    "input_test = (20, 1, 0, 0, 1, 2)\n",
    "input_np_arr = np.asarray(input_test)\n",
    "input_data = input_np_arr.reshape(1,-1)\n",
    "\n",
    "predict_survival = lr.predict(input_data)\n",
    "print('Survived' if predict_survival == 1 else 'Dead')"
   ]
  }
 ],
 "metadata": {
  "kernelspec": {
   "display_name": "Python 3",
   "language": "python",
   "name": "python3"
  },
  "language_info": {
   "codemirror_mode": {
    "name": "ipython",
    "version": 3
   },
   "file_extension": ".py",
   "mimetype": "text/x-python",
   "name": "python",
   "nbconvert_exporter": "python",
   "pygments_lexer": "ipython3",
   "version": "3.6.4"
  }
 },
 "nbformat": 4,
 "nbformat_minor": 5
}
