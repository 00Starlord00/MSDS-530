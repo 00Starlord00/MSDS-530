{
 "cells": [
  {
   "cell_type": "markdown",
   "id": "c21860f1-774c-491f-b8bd-bbd3a8cae4c8",
   "metadata": {},
   "source": [
    "# Group 8 term project"
   ]
  },
  {
   "cell_type": "markdown",
   "id": "7200c778-3e3f-42da-97ec-29152dc8c8eb",
   "metadata": {},
   "source": [
    "This project uses a support vector machine to predict whether the patient has type 1 or type 2 diabetes."
   ]
  },
  {
   "cell_type": "markdown",
   "id": "87ba310d-114e-400c-8ef9-a9c03aad4f5b",
   "metadata": {},
   "source": [
    "## Import libraries"
   ]
  },
  {
   "cell_type": "code",
   "execution_count": 1,
   "id": "afcd0ff4-9af6-4b24-93f0-17df57fab629",
   "metadata": {},
   "outputs": [],
   "source": [
    "import numpy as np\n",
    "import pandas as pd\n",
    "import matplotlib.pyplot as plt\n",
    "import sklearn as sk\n",
    "import pickle\n",
    "from sklearn.svm import SVC\n",
    "from sklearn.model_selection import train_test_split\n",
    "from sklearn.metrics import accuracy_score\n",
    "from sklearn import tree\n",
    "from sklearn.ensemble import RandomForestClassifier"
   ]
  },
  {
   "cell_type": "markdown",
   "id": "f10e0148-5aa3-42dc-9c02-226343d5af44",
   "metadata": {},
   "source": [
    "## Import Dataset"
   ]
  },
  {
   "cell_type": "code",
   "execution_count": 2,
   "id": "8fcffb46-fd87-436c-a016-8293291d363c",
   "metadata": {},
   "outputs": [],
   "source": [
    "diabetes_data = pd.read_csv('C:/Users/Pranav/Documents/MS Program/MSDS 530/Term_Project/diabetes.csv')"
   ]
  },
  {
   "cell_type": "markdown",
   "id": "b02bd7df-186c-4b1e-bc40-c12afc078e25",
   "metadata": {},
   "source": [
    "## Feature Split\n",
    " Splitting features to train machine learning model that calculates the likeliness of patient having Type 1 diabetes"
   ]
  },
  {
   "cell_type": "code",
   "execution_count": 3,
   "id": "dfc6fc12-afad-4804-8c5f-75214e7bd25b",
   "metadata": {},
   "outputs": [],
   "source": [
    "X_T1 = diabetes_data.drop(columns = ['Pregnancies', 'BloodPressure', 'SkinThickness', 'Insulin', 'BMI', 'Outcome'],axis=1)\n",
    "Y_T1 = diabetes_data['Outcome']"
   ]
  },
  {
   "cell_type": "markdown",
   "id": "28b8d47f-c9e0-4371-be5d-2c40035c2be1",
   "metadata": {},
   "source": [
    "## Data Split\n",
    " Splitting data for training and testing in 80- 20 split"
   ]
  },
  {
   "cell_type": "code",
   "execution_count": 4,
   "id": "0f915bbd-379b-4be2-8a9e-24b41e7eb9d4",
   "metadata": {},
   "outputs": [],
   "source": [
    "xTrain_T1, xTest_T1, yTrain_T1, yTest_T1 = train_test_split(X_T1,Y_T1, test_size=0.2, random_state=2)"
   ]
  },
  {
   "cell_type": "markdown",
   "id": "158d0e27-93e6-4953-8c5a-8564947b2d85",
   "metadata": {},
   "source": [
    "## Machine learning model for Type 1 diabetes\n",
    "SVM model with Polynimial kernel type has given accuraccy of 77.273% for given dataset."
   ]
  },
  {
   "cell_type": "code",
   "execution_count": 5,
   "id": "8ebdacc9-ca43-4932-a44e-ddb1a60455c0",
   "metadata": {},
   "outputs": [
    {
     "name": "stdout",
     "output_type": "stream",
     "text": [
      "Accuracy for training data is: 77.27272727272727 \n",
      "\n"
     ]
    }
   ],
   "source": [
    "#kernel_fn = input(\"Enter the kernal function SVM algorithm. :\")\n",
    "s_v_m_T1 = SVC(kernel = 'poly')\n",
    "s_v_m_T1.fit(xTrain_T1, yTrain_T1)\n",
    "yPredict_T1 = s_v_m_T1.predict(xTest_T1)\n",
    "acc_T1 = accuracy_score(yTest_T1, yPredict_T1)\n",
    "accuracy_T1 = acc_T1 * 100\n",
    "save_svm_model_T1 = pickle.dumps(s_v_m_T1)\n",
    "print(f'Accuracy for training data is: {accuracy_T1} \\n')"
   ]
  },
  {
   "cell_type": "markdown",
   "id": "b60c7043-6d64-4465-a03e-2465ca7bf57a",
   "metadata": {},
   "source": [
    "## Feature Split\n",
    " Splitting features to train machine learning model that calculates the likeliness of patient having Type 2 diabetes"
   ]
  },
  {
   "cell_type": "code",
   "execution_count": 6,
   "id": "dc8cbdb6-fdec-40fb-8d50-1849e46453d5",
   "metadata": {},
   "outputs": [],
   "source": [
    "X_T2 = diabetes_data.drop(columns = ['Outcome'],axis=1)\n",
    "Y_T2 = diabetes_data['Outcome']"
   ]
  },
  {
   "cell_type": "markdown",
   "id": "515d9e5a-f541-4632-89b3-ad781a5ae1b8",
   "metadata": {},
   "source": [
    "## Data Split\n",
    " Splitting data for training and testing in 80- 20 split"
   ]
  },
  {
   "cell_type": "code",
   "execution_count": 7,
   "id": "be8904fb-beb4-4ce6-80b1-7e4d3cbb441c",
   "metadata": {},
   "outputs": [],
   "source": [
    "xTrain_T2, xTest_T2, yTrain_T2, yTest_T2 = train_test_split(X_T2,Y_T2, test_size=0.2, random_state=2)"
   ]
  },
  {
   "cell_type": "markdown",
   "id": "b36aa8e9-2cf7-4227-85d1-a837b660c96b",
   "metadata": {},
   "source": [
    "## Machine learning model for Type 1 diabetes\n",
    "SVM model with Polynimial kernel type has given accuraccy of 79.221% for given dataset."
   ]
  },
  {
   "cell_type": "code",
   "execution_count": 8,
   "id": "e6be94dd-e193-4509-b294-50d6a7d9777e",
   "metadata": {},
   "outputs": [
    {
     "name": "stdout",
     "output_type": "stream",
     "text": [
      "Accuracy for training data is: 79.22077922077922 \n",
      "\n"
     ]
    }
   ],
   "source": [
    "#kernel_fn = input(\"Enter the kernal function SVM algorithm. :\")\n",
    "s_v_m_T2 = SVC(kernel = 'poly')\n",
    "s_v_m_T2.fit(xTrain_T2, yTrain_T2)\n",
    "yPredict_T2 = s_v_m_T2.predict(xTest_T2)\n",
    "acc_T2 = accuracy_score(yTest_T2, yPredict_T2)\n",
    "accuracy_T2 = acc_T2*100\n",
    "save_svm_model_T2 = pickle.dumps(s_v_m_T2)\n",
    "print(f'Accuracy for training data is: {accuracy_T2} \\n')"
   ]
  },
  {
   "cell_type": "markdown",
   "id": "2fbc1f0c-bceb-434e-9b4f-2181eafc8744",
   "metadata": {},
   "source": [
    "## Testing\n",
    "Here, based on the given data we test whether patient has type 1 or type 2 diabetes"
   ]
  },
  {
   "cell_type": "code",
   "execution_count": 9,
   "id": "d4b3d58d-801e-4c8a-8c02-c806160de628",
   "metadata": {},
   "outputs": [
    {
     "name": "stdout",
     "output_type": "stream",
     "text": [
      "Patient does not have diabetes\n"
     ]
    }
   ],
   "source": [
    "input_test = (1,93,70,31,0,30.4,0.315,23)\n",
    "input_arr_T1 = (input_test[1], input_test[6], input_test[7])\n",
    "input_np_arr_T1 = np.asarray(input_arr_T1)\n",
    "input_data_T1 = input_np_arr_T1.reshape(1,-1)\n",
    "\n",
    "input_np_arr_T2 = np.asarray(input_test)\n",
    "input_data_T2 = input_np_arr_T2.reshape(1,-1)\n",
    "\n",
    "predict_T1 = s_v_m_T1.predict(input_data_T1)\n",
    "predict_T2 = s_v_m_T2.predict(input_data_T2)\n",
    "\n",
    "if (predict_T1 == 1 and predict_T2 == 1) or (predict_T1 == 0 and predict_T2 == 1):\n",
    "    print('Patient may have Type 2 diabetes')\n",
    "elif predict_T1 == 1 and predict_T2 == 0:\n",
    "    print('Patient may have Type 1 diabetes')\n",
    "elif predict_T1 == 0 and predict_T2 == 0:\n",
    "    print('Patient does not have diabetes')"
   ]
  }
 ],
 "metadata": {
  "kernelspec": {
   "display_name": "Python 3",
   "language": "python",
   "name": "python3"
  },
  "language_info": {
   "codemirror_mode": {
    "name": "ipython",
    "version": 3
   },
   "file_extension": ".py",
   "mimetype": "text/x-python",
   "name": "python",
   "nbconvert_exporter": "python",
   "pygments_lexer": "ipython3",
   "version": "3.6.4"
  }
 },
 "nbformat": 4,
 "nbformat_minor": 5
}
